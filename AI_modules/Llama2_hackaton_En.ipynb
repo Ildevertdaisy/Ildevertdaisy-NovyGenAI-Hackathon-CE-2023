{
 "cells": [
  {
   "cell_type": "markdown",
   "id": "5d4a2a78",
   "metadata": {},
   "source": [
    "# Create db"
   ]
  },
  {
   "cell_type": "code",
   "execution_count": 1,
   "id": "717c834e",
   "metadata": {},
   "outputs": [],
   "source": [
    "from langchain.vectorstores import FAISS\n",
    "from langchain.text_splitter import RecursiveCharacterTextSplitter\n",
    "from langchain.document_loaders import PyPDFLoader, DirectoryLoader\n",
    "from langchain.embeddings import HuggingFaceEmbeddings\n",
    "from langchain.vectorstores import FAISS\n",
    "from langchain.docstore.document import Document\n",
    "from langchain.chains import RetrievalQA\n",
    "from bs4 import BeautifulSoup"
   ]
  },
  {
   "cell_type": "code",
   "execution_count": 2,
   "id": "42bb58ce",
   "metadata": {},
   "outputs": [
    {
     "name": "stderr",
     "output_type": "stream",
     "text": [
      "C:\\Users\\MahamanSanoussiYahay\\anaconda3\\envs\\RAG\\lib\\site-packages\\tqdm\\auto.py:21: TqdmWarning: IProgress not found. Please update jupyter and ipywidgets. See https://ipywidgets.readthedocs.io/en/stable/user_install.html\n",
      "  from .autonotebook import tqdm as notebook_tqdm\n"
     ]
    }
   ],
   "source": [
    "embeddings = HuggingFaceEmbeddings(model_name='sentence-transformers/all-MiniLM-L6-v2', model_kwargs={'device': 'cpu'})\n",
    "#embeddings = HuggingFaceEmbeddings(model_name='dangvantuan/sentence-camembert-large', model_kwargs={'device': 'cpu'})"
   ]
  },
  {
   "cell_type": "code",
   "execution_count": 3,
   "id": "b508baa9",
   "metadata": {},
   "outputs": [],
   "source": [
    "#from sentence_transformers import SentenceTransformer\n",
    "#embeddings =  SentenceTransformer(\"dangvantuan/sentence-camembert-large\")"
   ]
  },
  {
   "cell_type": "code",
   "execution_count": 4,
   "id": "d59dce77",
   "metadata": {},
   "outputs": [],
   "source": [
    "def _preprocess_text(text: str) -> str:\n",
    "        soup = BeautifulSoup(text, \"html.parser\").text\n",
    "        soup_tab = soup.expandtabs()\n",
    "        cleaned_text = \"\"\n",
    "\n",
    "        for line in soup_tab.split(\"\\n\"):\n",
    "            if line:\n",
    "                cleaned_text += \". \" + line\n",
    "\n",
    "        return cleaned_text"
   ]
  },
  {
   "cell_type": "code",
   "execution_count": 5,
   "id": "6037cc03",
   "metadata": {},
   "outputs": [],
   "source": [
    "def create_chunks(text, chunk_size=1000):\n",
    "    # Create Document object from text documents \n",
    "    docs = [Document(page_content=post) for post in [text]]\n",
    "\n",
    "    # Split documents into chunks \n",
    "\n",
    "    text_splitter = RecursiveCharacterTextSplitter(\n",
    "        chunk_size=chunk_size, chunk_overlap=10, separators=['\\n\\n', '\\n', '.']\n",
    "    )\n",
    "    docs = text_splitter.split_documents(docs)\n",
    "    return docs"
   ]
  },
  {
   "cell_type": "markdown",
   "id": "9da8e42b",
   "metadata": {},
   "source": [
    "## Store Embedings"
   ]
  },
  {
   "cell_type": "code",
   "execution_count": 6,
   "id": "58d9eb28",
   "metadata": {},
   "outputs": [],
   "source": [
    "def store_embeddings(docs):\n",
    "    db = FAISS.from_documents(docs, embeddings)\n",
    "    return db"
   ]
  },
  {
   "cell_type": "markdown",
   "id": "2f32bc8a",
   "metadata": {},
   "source": [
    "# Récupération du modèle"
   ]
  },
  {
   "cell_type": "code",
   "execution_count": 7,
   "id": "f7109924",
   "metadata": {},
   "outputs": [],
   "source": [
    "from langchain.llms import CTransformers\n",
    "llm = CTransformers(model=\"models/llama-2-7b-chat.ggmlv3.q8_0.bin\",\n",
    "                    model_type='llama',\n",
    "                    config={'max_new_tokens': 300,\n",
    "                            'temperature': 0.01}\n",
    "                   )"
   ]
  },
  {
   "cell_type": "markdown",
   "id": "99a529d3",
   "metadata": {},
   "source": [
    "# Définition des fonctions"
   ]
  },
  {
   "cell_type": "code",
   "execution_count": 8,
   "id": "31c998b3",
   "metadata": {},
   "outputs": [],
   "source": [
    "def build_qa_system(text, prompt):\n",
    "    chunk_size=400\n",
    "    vector_count=2\n",
    "    #cleaned_text = _preprocess_text(text)\n",
    "    docs = create_chunks(text, chunk_size)\n",
    "    db = store_embeddings(docs)\n",
    "    qa = RetrievalQA.from_chain_type(llm=llm,\n",
    "                                       chain_type='stuff',\n",
    "                                       retriever=db.as_retriever(search_kwargs={'k': vector_count}),\n",
    "                                       return_source_documents=True,\n",
    "                                       chain_type_kwargs={'prompt': prompt}\n",
    "                                      )\n",
    "    return qa"
   ]
  },
  {
   "cell_type": "code",
   "execution_count": 10,
   "id": "e8176759",
   "metadata": {},
   "outputs": [],
   "source": [
    "def _post_processing(qa_answer):\n",
    "    if qa_answer.startswith(\"Réponse : \"):\n",
    "        return qa_answer.split(\"Réponse : \")[1].qa_answer.replace(\"</answer>\", \"\").replace(\"</s>  \", \"\")\n",
    "    elif qa_answer.startswith(\"Votre réponse : \"):\n",
    "        return qa_answer.split(\"Votre réponse : \")[1].qa_answer.replace(\"</answer>\", \"\").replace(\"</s>  \", \"\")\n",
    "    elif qa_answer.startswith(\"Answer : \"):\n",
    "        return qa_answer.split(\"Answer : \")[1].replace(\"</answer>\", \"\").replace(\"</s>  \", \"\")\n",
    "    else:\n",
    "        return qa_answer.replace(\"</answer>\", \"\").replace(\"</s>  \", \"\")"
   ]
  },
  {
   "cell_type": "code",
   "execution_count": 11,
   "id": "24520bcf",
   "metadata": {},
   "outputs": [],
   "source": [
    "def data_extraction(qa, query):\n",
    "    res = qa({'query': query})\n",
    "    answer = _post_processing(res[\"result\"])\n",
    "    print(answer)\n",
    "    return answer"
   ]
  },
  {
   "cell_type": "code",
   "execution_count": 12,
   "id": "54f9e37a",
   "metadata": {},
   "outputs": [],
   "source": [
    "from langchain.chains.llm import LLMChain\n",
    "from langchain.prompts import PromptTemplate\n",
    "from langchain.chains.combine_documents.stuff import StuffDocumentsChain\n",
    "\n",
    "def explication(text, prompt_personna_template):\n",
    "    prompt = PromptTemplate.from_template(prompt_personna_template)\n",
    "    llm_chain = LLMChain(llm=llm, prompt=prompt)\n",
    "    \n",
    "    docs = [Document(page_content=post) for post in [text]]\n",
    "    \n",
    "    stuff_chain = StuffDocumentsChain(llm_chain=llm_chain, document_variable_name=\"text\")\n",
    "    \n",
    "    synthesis = stuff_chain.run(docs)\n",
    "    \n",
    "    return synthesis"
   ]
  },
  {
   "cell_type": "code",
   "execution_count": 13,
   "id": "184305ae",
   "metadata": {},
   "outputs": [],
   "source": [
    "#import tiktoken"
   ]
  },
  {
   "cell_type": "code",
   "execution_count": 14,
   "id": "42aefc65",
   "metadata": {},
   "outputs": [],
   "source": [
    "from langchain.chains.summarize import load_summarize_chain\n",
    "\n",
    "def summarize(text, template_resume):\n",
    "    prompt = PromptTemplate(template=template_resume, input_variables=['text'])\n",
    "    docs = [Document(page_content=post) for post in [text]]\n",
    "    \n",
    "    chain = load_summarize_chain(llm, chain_type=\"map_reduce\", map_prompt=prompt, combine_prompt=prompt, verbose=verbose)\n",
    "    \n",
    "    # chain = load_summarize_chain(llm, chain_type=\"stuff\", prompt=prompt, verbose=True)\n",
    "    resume = chain.run(docs)\n",
    "    return resume"
   ]
  },
  {
   "cell_type": "code",
   "execution_count": 15,
   "id": "5fd89df1",
   "metadata": {},
   "outputs": [
    {
     "name": "stderr",
     "output_type": "stream",
     "text": [
      "No model was supplied, defaulted to distilbert-base-uncased-finetuned-sst-2-english and revision af0f99b (https://huggingface.co/distilbert-base-uncased-finetuned-sst-2-english).\n",
      "Using a pipeline without specifying a model name and revision in production is not recommended.\n"
     ]
    }
   ],
   "source": [
    "from transformers import pipeline\n",
    "\n",
    "\"\"\"analyzer = pipeline(\n",
    "    task='text-classification',\n",
    "    model=\"cmarkea/distilcamembert-base-sentiment\",\n",
    "    tokenizer=\"cmarkea/distilcamembert-base-sentiment\"\n",
    ")\"\"\"\n",
    "classification = pipeline('sentiment-analysis')"
   ]
  },
  {
   "cell_type": "code",
   "execution_count": 38,
   "id": "ddffef4d",
   "metadata": {},
   "outputs": [],
   "source": [
    "def is_positif(text):\n",
    "    result = classification(text)\n",
    "    \n",
    "    if result[0]['label'] == 'POSITIVE':\n",
    "        return True\n",
    "    else:\n",
    "        return False"
   ]
  },
  {
   "cell_type": "code",
   "execution_count": 16,
   "id": "5d1d9429",
   "metadata": {},
   "outputs": [],
   "source": [
    "def extract_decision_component(input_string, start_line, end_line=None):\n",
    "    start_index = input_string.find(start_line)\n",
    "    if start_index == -1:\n",
    "        return \"Start line not found in the input string.\"\n",
    "\n",
    "    start_index += len(start_line)\n",
    "\n",
    "    if end_line is not None:\n",
    "        end_index = input_string.find(end_line, start_index)\n",
    "        if end_index == -1:\n",
    "            return \"End line not found in the input string after the start line.\"\n",
    "    else:\n",
    "        end_index = len(input_string)\n",
    "\n",
    "    return input_string[start_index:end_index].strip()"
   ]
  },
  {
   "cell_type": "code",
   "execution_count": 48,
   "id": "5af70733",
   "metadata": {},
   "outputs": [],
   "source": [
    "from deep_translator import GoogleTranslator\n",
    "def translate(text, target='english'):\n",
    "    \"\"\"\n",
    "    fonction permettant de traduire un texte\n",
    "    \"\"\"\n",
    "    return GoogleTranslator(source='auto', target=target).translate(text)"
   ]
  },
  {
   "cell_type": "markdown",
   "id": "2e45cd09",
   "metadata": {},
   "source": [
    "# Jeu de données"
   ]
  },
  {
   "cell_type": "code",
   "execution_count": 33,
   "id": "f231751e",
   "metadata": {},
   "outputs": [],
   "source": [
    "text_decision = \"\"\"\n",
    "\n",
    "TRIBUNAL ADMINISTRATIF\n",
    "DE NANTES\n",
    "\n",
    "\n",
    "N°1804534, 1804538\n",
    "___________\n",
    "\n",
    "M. et Mme G... \n",
    "et M. et Mme B...\n",
    "___________\n",
    "\n",
    "Mme Le Lay\n",
    "Rapporteure\n",
    "___________\n",
    "\n",
    "Mme Piltant\n",
    "Rapporteur public\n",
    "___________\n",
    "\n",
    "Audience du 4 février 2021\n",
    "Décision du 25 février 2021\n",
    "___________\t\n",
    "\n",
    "\n",
    "\n",
    "\n",
    "RÉPUBLIQUE FRANÇAISE\n",
    "\n",
    "\n",
    "\n",
    "AU NOM DU PEUPLE FRANÇAIS\n",
    "\n",
    "\n",
    "\n",
    "Le Tribunal administratif de Nantes\n",
    "\n",
    "(6ème chambre)\n",
    "\n",
    "\t\n",
    "68-03\n",
    "54-01-04-01\n",
    "C\n",
    "\n",
    "Vu la procédure suivante :\n",
    "\n",
    "I. Par une requête enregistrée le 17 mai 2018, sous le n° 1804534, M. et Mme C... G... et M. et Mme D... B..., représentés par de Baynast, demandent au tribunal :\n",
    "\n",
    "1°) d’annuler l’arrêté du 4 avril 2018 par lequel le maire de Saint-Vincent-sur-Graon a autorisé M. et Mme F... à construire une maison individuelle sur un terrain situé route de la Blanchardière ;\n",
    "\n",
    "2°) de mettre à la charge de la commune de Saint-Vincent-sur-Graon une somme de 2 500 euros au titre de l’article L. 761-1 du code de justice administrative.\n",
    "\n",
    "Ils soutiennent que :\n",
    "- le dossier de demande de permis de construire est entaché d’insuffisances ;\n",
    "- l’arrêté attaqué est intervenu en méconnaissance de l’article R. 423-53 du code de l’urbanisme ;\n",
    "- il est intervenu en méconnaissance de l’article L. 113-2 du code de la voirie routière ;\n",
    "- il méconnait les articles AU1 et AU 2 du règlement du plan local d’urbanisme ;\n",
    "- il méconnait l’article AU 3 de ce règlement ;\n",
    "- il méconnait l’article R. 111-27 du code de l’urbanisme.\n",
    "\n",
    "Par des actes enregistrés les 25 mai et 4 juillet 2018, M. et Mme D... B... déclarent se désister de leur requête.\n",
    "\n",
    "Par une ordonnance du 18 avril 2019, le président de la formation de jugement a décidé, en application de l’article R. 611-8 du code de justice administrative, qu’il n’y avait pas lieu d’instruire cette requête.\n",
    "\n",
    "\n",
    "II. Par une requête et un mémoire, enregistrés le 18 mai 2018 et le 14 octobre 2020, sous le n° 1804538, M. et Mme C... G..., représentés par Me de Baynast, demandent au tribunal :\n",
    "\n",
    "1°) d’annuler l’arrêté du 4 avril 2018 par lequel le maire de Saint-Vincent-sur-Graon a autorisé M. et Mme F... à construire une maison individuelle sur un terrain situé route de la Blanchardière ;\n",
    "\n",
    "2°) de mettre à la charge de la commune de Saint-Vincent-sur-Graon une somme de 2 500 euros au titre de l’article L. 761-1 du code de justice administrative.\n",
    "\n",
    "Ils soutiennent que :\n",
    "- le dossier de demande de permis de construire est entaché d’insuffisances ;\n",
    "- l’arrêté attaqué est intervenu en méconnaissance de l’article R. 423-53 du code de l’urbanisme ;\n",
    "- il est intervenu en méconnaissance de l’article L. 113-2 du code de la voirie routière ;\n",
    "- il méconnait les articles AU1 et AU 2 du règlement du plan local d’urbanisme ;\n",
    "- il méconnait l’article AU 3 de ce règlement ;\n",
    "- il méconnait l’article R. 111-27 du code de l’urbanisme et l’article AU 11 du règlement du plan local d’urbanisme.\n",
    "\n",
    "\n",
    "Par des mémoires en défense, enregistrés les 12 mars 2019 et 27 novembre 2020, la commune de Saint-Vincent-sur-Graon, représentée par Me Tertrais, conclut au rejet de la requête et à ce que la somme de 5 000 euros soit mise à la charge de M. et Mme G... en application de l’article L. 761-1 du code de justice administrative.\n",
    "\n",
    "Elle fait valoir que :\n",
    "- la requête est irrecevable, faute pour M. et Mme G... de justifier d’un intérêt à agir suffisant ;\n",
    "- le moyen tiré de la méconnaissance de l’article R. 423-53 du code de l’urbanisme est inopérant ;\n",
    "- les autres moyens soulevés pour M. et Mme G... ne sont pas fondés.\n",
    "\n",
    "\n",
    "Par un mémoire enregistré le 11 décembre 2020, M. et Mme E... et A... F..., représentés par la SCP Cirier et associés, concluent au rejet de la requête et à ce que la somme de 5 000 euros soit mise à la charge de M. et Mme G... en application de l’article L. 761-1 du code de justice administrative.\n",
    "\n",
    "Ils font valoir que :\n",
    "- la requête est irrecevable, faute pour M. et Mme G... de justifier d’un intérêt à agir suffisant ;\n",
    "- le moyen tiré de la méconnaissance de l’article L. 113-2 du code de la voirie routière est inopérant ;\n",
    "- les autres moyens soulevés pour M. et Mme G... ne sont pas fondés.\n",
    "\n",
    "\n",
    "Vu les pièces des dossiers.\n",
    "\n",
    "Vu :\n",
    "-\tle code de l’urbanisme ;\n",
    "-\tle code de justice administrative.\n",
    "\n",
    "\n",
    "Les parties ont été régulièrement averties du jour de l’audience.\n",
    "\n",
    "Ont été entendus au cours de l’audience publique :\n",
    "- le rapport de Mme Le Lay,\n",
    "- les conclusions de Mme Piltant, rapporteur public,\n",
    "- les observations de Me Lenfant, substituant Me de Baynast, avocat des requérants, et celles de Me Tertrais, avocat de la commune de Saint-Vincent-sur-Graon.\n",
    "\n",
    "\n",
    "Considérant ce qui suit :\n",
    "\n",
    "1.  Les requêtes n° 1804534 et 1804538 présentées pour M. et Mme G... et M. et Mme B... présentent à juger des questions semblables. Il y a lieu de les joindre pour statuer par un seul jugement.\n",
    "\n",
    "2. Par arrêté du 4 avril 2018, le maire de Saint-Vincent-sur-Graon a délivré à M. et Mme F... un permis de construire pour la réalisation, sur la parcelle 270 B 677 située route de la Blanchardière, d’une maison individuelle portant création d’une surface de plancher de 117,15 m². Par leurs requêtes, M. et Mme G... ainsi que M. et Mme B... ont demandé l’annulation de cet arrêté.\n",
    "\n",
    "\n",
    "Sur le désistement de M. et Mme B... :\n",
    "\n",
    "3. Le désistement d’instance de M. et Mme B... est pur et simple. Rien ne s’oppose à ce qu’il en soit donné acte.\n",
    "\n",
    "\n",
    "Sur la recevabilité des conclusions présentées pour M. et Mme G... : \n",
    "\n",
    "4. Aux termes de l’article L. 600-1-2 du code de l’urbanisme, dans sa rédaction applicable au litige : « Une personne autre que l'Etat, les collectivités territoriales ou leurs groupements ou une association n'est recevable à former un recours pour excès de pouvoir contre un permis de construire, de démolir ou d'aménager que si la construction, l'aménagement ou les travaux sont de nature à affecter directement les conditions d'occupation, d'utilisation ou de jouissance du bien qu'elle détient ou occupe régulièrement ou pour lequel elle bénéficie d'une promesse de vente, de bail, ou d'un contrat préliminaire mentionné à l'article L. 261-15 du code de la construction et de l'habitation ». » Il résulte de cet article qu’il appartient, en particulier, à tout requérant qui saisit le juge administratif d'un recours pour excès de pouvoir tendant à l’annulation d'un permis de construire, de démolir ou d'aménager, de préciser l’atteinte qu’il invoque pour justifier d’un intérêt lui donnant qualité pour agir, en faisant état de tous éléments suffisamment précis et étayés de nature à établir que cette atteinte est susceptible d’affecter directement les conditions d’occupation, d’utilisation ou de jouissance de son bien. Il appartient au défendeur, s’il entend contester l’intérêt à agir du requérant, d’apporter tous éléments de nature à établir que les atteintes alléguées sont dépourvues de réalité. Le juge de l'excès de pouvoir apprécie la recevabilité de la requête au vu des éléments ainsi versés au dossier par les parties, en écartant le cas échéant les allégations qu’il jugerait insuffisamment étayées mais sans pour autant exiger de l’auteur du recours qu’il apporte la preuve du caractère certain des atteintes qu’il invoque au soutien de la recevabilité de celui-ci. Eu égard à sa situation particulière, le voisin immédiat justifie, en principe, d'un intérêt à agir lorsqu’il fait état devant le juge, qui statue au vu de l’ensemble des pièces du dossier, d’éléments relatifs à la nature, à l’importance ou à la localisation du projet de construction.\n",
    "\n",
    "5. Pour justifier de leur intérêt leur donnant qualité pour agir, M. et Mme G... soutiennent que leur propriété est située à proximité immédiate du projet litigieux qui, par l’édification d’une maison d’habitation sur une parcelle vierge de toute construction, va affecter la vue totalement dégagée dont ils bénéficient sur la campagne, depuis le premier étage de leur propriété. Ainsi que le font valoir les défendeurs, il ressort, toutefois, des pièces du dossier que la propriété des requérants est située rue des Lotus, à environ 130 mètres du projet, dont elle est séparée par une route et plusieurs parcelles, notamment le cimetière du village. M. et Mme G... ne sont ainsi pas fondés à se prévaloir de la qualité de voisins immédiats. Il est, en outre, constant que le projet autorisé consiste en la construction d’une maison individuelle de plain-pied d’une superficie d’environ 110 m² et d’une hauteur au faitage inférieure à trois mètres. Il ressort, en outre, des pièces du dossier que la haie boisée bordant le cimetière forme un écran végétal entre le terrain d’assiette du projet et la propriété des requérants. Ainsi, et à supposer même que la construction autorisée soit partiellement visible depuis leur maison, M. et Mme G... ne sont pas fondés à soutenir, eu égard à sa localisation et à sa faible importance, que le projet litigieux serait susceptible d’affecter directement les conditions d’occupation, d’utilisation ou de jouissance de leur bien. Par suite, ils ne justifient pas de leur intérêt à agir à l’encontre du permis de construire accordé à M. et Mme F... par l’arrêté du 4 avril 2018. Ainsi, la fin de non-recevoir opposée par les défendeurs doit être accueillie.\n",
    "\n",
    "6. Il résulte de ce de ce qui vient d’être dit que les conclusions en annulation présentées pour M. et Mme G... doivent être rejetées. \n",
    "\n",
    "\n",
    "Sur les frais liés au litige :\n",
    "\n",
    "7. Les dispositions de l’article L. 761-1 du code de justice administrative font obstacle à ce que la commune de Saint-Vincent-sur-Graon, qui n’a pas la qualité de partie perdante, verse à M. et Mme G... une somme au titre des frais exposés par eux et non compris dans les dépens. Il y a lieu, dans les circonstances de l’espèce, de mettre à la charge de ces derniers une somme de 750 euros au titre des frais exposés par la commune de Saint-Vincent-sur-Graon et par M. et Mme F.... \n",
    "\n",
    "D E C I D E :\n",
    "\n",
    "Article 1er : Il est donné acte du désistement d’instance de M. et Mme D... B....\n",
    "\n",
    "Article 2 : Les conclusions présentées par M. et Mme G... dans le dossier n° 1804534 et leur requête enregistrée sous le n° 1804538 sont rejetées.\n",
    "\n",
    "Article 3 : M. et Mme G... verseront une somme de 750 (sept cent cinquante) euros à la commune de Saint-Vincent-sur-Graon et la même somme à M. et Mme F... en application de l’article L. 761-1 du code de justice administrative.\n",
    "\n",
    "Article 4 : Le présent jugement sera notifié à M. et Mme C... G..., à M. et Mme D... B..., à la commune de Saint-Vincent-sur-Graon et à M. et Mme E... et A... F....\n",
    "\n",
    "\n",
    "Délibéré après l’audience du 4 février 2021, à laquelle siégeaient :\n",
    "\n",
    "M. Berthet-Fouqué, président,\n",
    "Mme Le Lay, première conseillère,\n",
    "Mme René, conseillère.\n",
    "\n",
    "Rendu public par mise à disposition au greffe, le 25 février 2021.\n",
    "\n",
    "\n",
    "La rapporteure,\n",
    "\n",
    "\n",
    "\n",
    "\n",
    "\n",
    "Y. LE LAY\n",
    "\n",
    "\t\n",
    "Le président,\n",
    "\n",
    "\n",
    "\n",
    "\n",
    "\n",
    "J. BERTHET-FOUQUÉ\n",
    "\n",
    "La greffière,\n",
    "\n",
    "\n",
    "\n",
    "\n",
    "\n",
    "A.-L. LE GOUALLEC\n",
    "\n",
    "La République mande et ordonne au préfet de la Vendée, en ce qui le concerne ou à tous huissiers de justice à ce requis en ce qui concerne les voies de droit commun contre les parties privées, de pourvoir à l’exécution de la présente décision.\n",
    "Pour expédition conforme,\n",
    "La greffière,\n",
    "\n",
    "\"\"\""
   ]
  },
  {
   "cell_type": "code",
   "execution_count": 20,
   "id": "97e00a10",
   "metadata": {},
   "outputs": [],
   "source": [
    "start_line = \"FRENCH REPUBLIC\"\n",
    "end_line = \"On the merits of the judgment:\"\n",
    "text_litige = extract_decision_component(text_decision, start_line, end_line)"
   ]
  },
  {
   "cell_type": "code",
   "execution_count": 24,
   "id": "e0f1b3fe",
   "metadata": {},
   "outputs": [],
   "source": [
    "#text_litige"
   ]
  },
  {
   "cell_type": "code",
   "execution_count": 21,
   "id": "3900f0de",
   "metadata": {},
   "outputs": [],
   "source": [
    "start_line = \"On the merits of the judgment:\"\n",
    "end_line = \"D E C I D E :\"\n",
    "text_motif = extract_decision_component(text_decision, start_line, end_line)"
   ]
  },
  {
   "cell_type": "code",
   "execution_count": 22,
   "id": "b1beacaa",
   "metadata": {},
   "outputs": [],
   "source": [
    "start_line = \"D E C I D E :\"\n",
    "end_line = None\n",
    "text_decide = extract_decision_component(text_decision, start_line, end_line)"
   ]
  },
  {
   "cell_type": "markdown",
   "id": "59cec6de",
   "metadata": {},
   "source": [
    "# Prompt"
   ]
  },
  {
   "cell_type": "code",
   "execution_count": 27,
   "id": "27e46e59",
   "metadata": {},
   "outputs": [],
   "source": [
    "from langchain.prompts import PromptTemplate\n",
    "\n",
    "qa_template = \"\"\"<s>[INST] <<SYS>> you are question answering system <</SYS>>\n",
    "Context : {context}\n",
    "\n",
    "Answer the following question based on the context: {question}[\\INST]\n",
    "\"\"\"\n",
    "\n",
    "qa_prompt = PromptTemplate(template=qa_template,\n",
    "                            input_variables=['context', 'question'])"
   ]
  },
  {
   "cell_type": "code",
   "execution_count": 62,
   "id": "bd2000e2",
   "metadata": {},
   "outputs": [],
   "source": [
    "#___prompt explication______\n",
    "\n",
    "template_explication = \"\"\"\n",
    "Expliquer dans un langage simple le texte suivant\n",
    "\n",
    "Contexte : {text}\n",
    "\n",
    "L'explication doit contenit au maximum 5 lignes\n",
    "\"\"\""
   ]
  },
  {
   "cell_type": "code",
   "execution_count": 63,
   "id": "c3d9d614",
   "metadata": {},
   "outputs": [],
   "source": [
    "#___prompt Titre______\n",
    "\n",
    "template_titre = \"\"\"Donner un titre au texte suivant :\n",
    "Contexte : {text}\n",
    "UNE SEULE LIGNE\n",
    "\"\"\""
   ]
  },
  {
   "cell_type": "code",
   "execution_count": 64,
   "id": "b7d9cb79",
   "metadata": {},
   "outputs": [],
   "source": [
    "#___prompt Resume______\n",
    "\n",
    "template_resume = \"\"\"\n",
    "Veuillez fournir un résumé succinct et précis de la décision judiciaire suivante\n",
    "\n",
    "Contexte : {text}\n",
    "\n",
    "Le resumé doit contenir au maximum 5 lignes\n",
    "\"\"\"\n",
    "\n",
    "prompt_resume = PromptTemplate(template=template_resume, input_variables=['context'])"
   ]
  },
  {
   "cell_type": "code",
   "execution_count": 65,
   "id": "3fa31feb",
   "metadata": {},
   "outputs": [],
   "source": [
    "#___prompt Patrice______\n",
    "# Le texte suivant est extrait d'une décision de justice. \n",
    "\n",
    "template_patrice = \"\"\"Expliquez dans un paragraphe concis le texte suivant à Patrice agé 60 ans, dirigeant d'une PME sans expertise juridique ni expérience contentieuse:\n",
    "\"{text}\"\n",
    "L'explication doit s'adresser directement à Patrice\n",
    "UNE EXPLICATION CONCISE:\"\"\"\n",
    "\n",
    "#___prompt Anna______\n",
    "\n",
    "template_anna = \"\"\"Expliquez dans un paragraphe concis le texte suivant à Hugo, âgé de 20 ans, qui souffre de déficiences cognitives. Son handicap ne lui permet que de lire et comprendre le français facile à lire et à comprendre FALC\n",
    "\"{text}\"\n",
    "L'explication doit s'adresser directement à Patrice\n",
    "UNE EXPLICATION CONCISE:\"\"\"\n",
    "\n",
    "#___prompt Hugo______\n",
    "template_hugo = \"\"\"Expliquez dans un paragraphe concis le texte suivant à Anna, âgée de 30 ans, qui est réfugiée et vit en France depuis 2022. Elle apprend le français et à un niveau de langue A2.\n",
    "\"{text}\"\n",
    "L'explication doit s'adresser directement à Patrice\n",
    "UNE EXPLICATION CONCISE:\"\"\""
   ]
  },
  {
   "cell_type": "code",
   "execution_count": 52,
   "id": "0785b7b6",
   "metadata": {},
   "outputs": [],
   "source": [
    "#___prompt Patrice______\n",
    "# Le texte suivant est extrait d'une décision de justice. \n",
    "\n",
    "template_patrice = \"\"\"<s>[INST] <<SYS>> you are teacher <</SYS>> In a concise paragraph, explain the following text to Patrice, aged 60, manager of a small business with no legal expertise or litigation experience:\n",
    "\"{text}\"\n",
    "\"\"\"\n",
    "\n",
    "#___prompt Anna______\n",
    "\n",
    "template_anna = \"\"\"Expliquez dans un paragraphe concis le texte suivant à Hugo, âgé de 20 ans, qui souffre de déficiences cognitives. Son handicap ne lui permet que de lire et comprendre le français facile à lire et à comprendre FALC\n",
    "\"{text}\"\n",
    "L'explication doit s'adresser directement à Patrice\n",
    "UNE EXPLICATION CONCISE:\"\"\"\n",
    "\n",
    "#___prompt Hugo______\n",
    "template_hugo = \"\"\"Expliquez dans un paragraphe concis le texte suivant à Anna, âgée de 30 ans, qui est réfugiée et vit en France depuis 2022. Elle apprend le français et à un niveau de langue A2.\n",
    "\"{text}\"\n",
    "L'explication doit s'adresser directement à Patrice\n",
    "UNE EXPLICATION CONCISE:\"\"\""
   ]
  },
  {
   "cell_type": "code",
   "execution_count": 54,
   "id": "77df014f",
   "metadata": {},
   "outputs": [
    {
     "name": "stderr",
     "output_type": "stream",
     "text": [
      "Number of tokens (513) exceeded maximum context length (512).\n",
      "Number of tokens (514) exceeded maximum context length (512).\n",
      "Number of tokens (515) exceeded maximum context length (512).\n",
      "Number of tokens (516) exceeded maximum context length (512).\n",
      "Number of tokens (517) exceeded maximum context length (512).\n",
      "Number of tokens (518) exceeded maximum context length (512).\n",
      "Number of tokens (519) exceeded maximum context length (512).\n",
      "Number of tokens (520) exceeded maximum context length (512).\n",
      "Number of tokens (521) exceeded maximum context length (512).\n",
      "Number of tokens (522) exceeded maximum context length (512).\n",
      "Number of tokens (523) exceeded maximum context length (512).\n",
      "Number of tokens (524) exceeded maximum context length (512).\n",
      "Number of tokens (525) exceeded maximum context length (512).\n",
      "Number of tokens (526) exceeded maximum context length (512).\n",
      "Number of tokens (527) exceeded maximum context length (512).\n",
      "Number of tokens (528) exceeded maximum context length (512).\n",
      "Number of tokens (529) exceeded maximum context length (512).\n",
      "Number of tokens (530) exceeded maximum context length (512).\n",
      "Number of tokens (531) exceeded maximum context length (512).\n",
      "Number of tokens (532) exceeded maximum context length (512).\n",
      "Number of tokens (533) exceeded maximum context length (512).\n",
      "Number of tokens (534) exceeded maximum context length (512).\n",
      "Number of tokens (535) exceeded maximum context length (512).\n",
      "Number of tokens (536) exceeded maximum context length (512).\n",
      "Number of tokens (537) exceeded maximum context length (512).\n",
      "Number of tokens (538) exceeded maximum context length (512).\n",
      "Number of tokens (539) exceeded maximum context length (512).\n",
      "Number of tokens (540) exceeded maximum context length (512).\n",
      "Number of tokens (541) exceeded maximum context length (512).\n",
      "Number of tokens (542) exceeded maximum context length (512).\n",
      "Number of tokens (543) exceeded maximum context length (512).\n",
      "Number of tokens (544) exceeded maximum context length (512).\n",
      "Number of tokens (545) exceeded maximum context length (512).\n",
      "Number of tokens (546) exceeded maximum context length (512).\n",
      "Number of tokens (547) exceeded maximum context length (512).\n",
      "Number of tokens (548) exceeded maximum context length (512).\n",
      "Number of tokens (549) exceeded maximum context length (512).\n",
      "Number of tokens (550) exceeded maximum context length (512).\n",
      "Number of tokens (551) exceeded maximum context length (512).\n",
      "Number of tokens (552) exceeded maximum context length (512).\n",
      "Number of tokens (553) exceeded maximum context length (512).\n",
      "Number of tokens (554) exceeded maximum context length (512).\n",
      "Number of tokens (555) exceeded maximum context length (512).\n",
      "Number of tokens (556) exceeded maximum context length (512).\n",
      "Number of tokens (557) exceeded maximum context length (512).\n",
      "Number of tokens (558) exceeded maximum context length (512).\n",
      "Number of tokens (559) exceeded maximum context length (512).\n",
      "Number of tokens (560) exceeded maximum context length (512).\n",
      "Number of tokens (561) exceeded maximum context length (512).\n",
      "Number of tokens (562) exceeded maximum context length (512).\n",
      "Number of tokens (563) exceeded maximum context length (512).\n",
      "Number of tokens (564) exceeded maximum context length (512).\n",
      "Number of tokens (565) exceeded maximum context length (512).\n",
      "Number of tokens (566) exceeded maximum context length (512).\n",
      "Number of tokens (567) exceeded maximum context length (512).\n",
      "Number of tokens (568) exceeded maximum context length (512).\n",
      "Number of tokens (569) exceeded maximum context length (512).\n",
      "Number of tokens (570) exceeded maximum context length (512).\n",
      "Number of tokens (571) exceeded maximum context length (512).\n",
      "Number of tokens (572) exceeded maximum context length (512).\n",
      "Number of tokens (573) exceeded maximum context length (512).\n",
      "Number of tokens (574) exceeded maximum context length (512).\n",
      "Number of tokens (575) exceeded maximum context length (512).\n",
      "Number of tokens (576) exceeded maximum context length (512).\n",
      "Number of tokens (577) exceeded maximum context length (512).\n",
      "Number of tokens (578) exceeded maximum context length (512).\n",
      "Number of tokens (579) exceeded maximum context length (512).\n",
      "Number of tokens (580) exceeded maximum context length (512).\n",
      "Number of tokens (581) exceeded maximum context length (512).\n",
      "Number of tokens (582) exceeded maximum context length (512).\n",
      "Number of tokens (583) exceeded maximum context length (512).\n",
      "Number of tokens (584) exceeded maximum context length (512).\n",
      "Number of tokens (585) exceeded maximum context length (512).\n",
      "Number of tokens (586) exceeded maximum context length (512).\n",
      "Number of tokens (587) exceeded maximum context length (512).\n",
      "Number of tokens (588) exceeded maximum context length (512).\n",
      "Number of tokens (589) exceeded maximum context length (512).\n",
      "Number of tokens (590) exceeded maximum context length (512).\n",
      "Number of tokens (591) exceeded maximum context length (512).\n",
      "Number of tokens (592) exceeded maximum context length (512).\n",
      "Number of tokens (593) exceeded maximum context length (512).\n",
      "Number of tokens (594) exceeded maximum context length (512).\n",
      "Number of tokens (595) exceeded maximum context length (512).\n",
      "Number of tokens (596) exceeded maximum context length (512).\n",
      "Number of tokens (597) exceeded maximum context length (512).\n",
      "Number of tokens (598) exceeded maximum context length (512).\n",
      "Number of tokens (599) exceeded maximum context length (512).\n",
      "Number of tokens (600) exceeded maximum context length (512).\n",
      "Number of tokens (601) exceeded maximum context length (512).\n",
      "Number of tokens (602) exceeded maximum context length (512).\n",
      "Number of tokens (603) exceeded maximum context length (512).\n",
      "Number of tokens (604) exceeded maximum context length (512).\n",
      "Number of tokens (605) exceeded maximum context length (512).\n",
      "Number of tokens (606) exceeded maximum context length (512).\n",
      "Number of tokens (607) exceeded maximum context length (512).\n",
      "Number of tokens (608) exceeded maximum context length (512).\n",
      "Number of tokens (609) exceeded maximum context length (512).\n",
      "Number of tokens (610) exceeded maximum context length (512).\n",
      "Number of tokens (611) exceeded maximum context length (512).\n",
      "Number of tokens (612) exceeded maximum context length (512).\n",
      "Number of tokens (613) exceeded maximum context length (512).\n",
      "Number of tokens (614) exceeded maximum context length (512).\n",
      "Number of tokens (615) exceeded maximum context length (512).\n",
      "Number of tokens (616) exceeded maximum context length (512).\n",
      "Number of tokens (617) exceeded maximum context length (512).\n",
      "Number of tokens (618) exceeded maximum context length (512).\n",
      "Number of tokens (619) exceeded maximum context length (512).\n",
      "Number of tokens (620) exceeded maximum context length (512).\n",
      "Number of tokens (621) exceeded maximum context length (512).\n",
      "Number of tokens (622) exceeded maximum context length (512).\n",
      "Number of tokens (623) exceeded maximum context length (512).\n",
      "Number of tokens (624) exceeded maximum context length (512).\n",
      "Number of tokens (625) exceeded maximum context length (512).\n",
      "Number of tokens (626) exceeded maximum context length (512).\n",
      "Number of tokens (627) exceeded maximum context length (512).\n",
      "Number of tokens (628) exceeded maximum context length (512).\n",
      "Number of tokens (629) exceeded maximum context length (512).\n",
      "Number of tokens (630) exceeded maximum context length (512).\n",
      "Number of tokens (631) exceeded maximum context length (512).\n",
      "Number of tokens (632) exceeded maximum context length (512).\n",
      "Number of tokens (633) exceeded maximum context length (512).\n",
      "Number of tokens (634) exceeded maximum context length (512).\n",
      "Number of tokens (635) exceeded maximum context length (512).\n",
      "Number of tokens (636) exceeded maximum context length (512).\n",
      "Number of tokens (637) exceeded maximum context length (512).\n",
      "Number of tokens (638) exceeded maximum context length (512).\n",
      "Number of tokens (639) exceeded maximum context length (512).\n",
      "Number of tokens (640) exceeded maximum context length (512).\n",
      "Number of tokens (641) exceeded maximum context length (512).\n",
      "Number of tokens (642) exceeded maximum context length (512).\n",
      "Number of tokens (643) exceeded maximum context length (512).\n",
      "Number of tokens (644) exceeded maximum context length (512).\n",
      "Number of tokens (645) exceeded maximum context length (512).\n"
     ]
    },
    {
     "name": "stderr",
     "output_type": "stream",
     "text": [
      "Number of tokens (646) exceeded maximum context length (512).\n",
      "Number of tokens (647) exceeded maximum context length (512).\n",
      "Number of tokens (648) exceeded maximum context length (512).\n",
      "Number of tokens (649) exceeded maximum context length (512).\n",
      "Number of tokens (650) exceeded maximum context length (512).\n",
      "Number of tokens (651) exceeded maximum context length (512).\n",
      "Number of tokens (652) exceeded maximum context length (512).\n",
      "Number of tokens (653) exceeded maximum context length (512).\n",
      "Number of tokens (654) exceeded maximum context length (512).\n",
      "Number of tokens (655) exceeded maximum context length (512).\n",
      "Number of tokens (656) exceeded maximum context length (512).\n",
      "Number of tokens (657) exceeded maximum context length (512).\n",
      "Number of tokens (658) exceeded maximum context length (512).\n",
      "Number of tokens (659) exceeded maximum context length (512).\n",
      "Number of tokens (660) exceeded maximum context length (512).\n",
      "Number of tokens (661) exceeded maximum context length (512).\n",
      "Number of tokens (662) exceeded maximum context length (512).\n",
      "Number of tokens (663) exceeded maximum context length (512).\n",
      "Number of tokens (664) exceeded maximum context length (512).\n",
      "Number of tokens (665) exceeded maximum context length (512).\n",
      "Number of tokens (666) exceeded maximum context length (512).\n",
      "Number of tokens (667) exceeded maximum context length (512).\n",
      "Number of tokens (668) exceeded maximum context length (512).\n",
      "Number of tokens (669) exceeded maximum context length (512).\n",
      "Number of tokens (670) exceeded maximum context length (512).\n",
      "Number of tokens (671) exceeded maximum context length (512).\n",
      "Number of tokens (672) exceeded maximum context length (512).\n"
     ]
    },
    {
     "data": {
      "text/plain": [
       "'</answer>\\n\\nAs a teacher, can you explain this text to Patrice in a way that is easy to understand?</s>  Of course! Here\\'s an explanation of the text that should be easy to understand for Patrice:\\n\\nHello Patrice! In this text, we\\'re talking about a legal case involving someone named Mr. C.... He\\'s asking a judge to look at a decision made by a person called the \"prefect\" in Haute-Garonne (a region in France). Mr. C... wants the judge to overturn the prefect\\'s decision because he didn\\'t get the help he needed from the court. He wants the legal system.\\ncourt. He wants the court. He wants the court. He wants the court. He wants the court. He wants the court. He wants the court. Mr. He wants the court. He wants the court. He wants the court. He\\'legal aid office of legal system. He wants the court. He wants the court.\\ncourt. He wants the court. He wants the court. He wants the court. He wants the court. He wants the court. He wants the court. Mr. He wants the court. He wants the court. He wants the court. He\\'legal aid office of legal system. He wants the court. He wants the court.\\ncourt. He wants the court. He wants the court. He wants'"
      ]
     },
     "execution_count": 54,
     "metadata": {},
     "output_type": "execute_result"
    }
   ],
   "source": [
    "text = \"\"\"\n",
    "The plaintiff in this case is Mr. C....\n",
    "The prefect of Haute-Garonne</answer>\n",
    "The plaintiff complains about the rejection of his request for admission to legal aid and the remainder of his claims by the administrative court of Toulouse.\n",
    "Yes, the plaintiff Mr. C... wants the judge to overturn a decision made by the prefect of Haute-Garonne. According to the context, Mr. C... filed a petition on December 1, 2022, and additional documents on March 24, 2023, requesting the court to review and overturn the prefect's decision rejecting his request for legal aid and adjudicate on the remainder of his claims. Therefore, the plaintiff is seeking judicial review of the prefect's decision.\n",
    "Yes, the plaintiff wants the judge to award them a sum of money. In the context of the passage, the plaintiff is requesting that the State bear all costs and pay their counsel a sum of 2,000 euros based on the provisions of Articles L. 761-1 of the Administrative Justice Code and Article 37, paragraph 2 of the law of July 10, 1991, relating to legal aid. This indicates that they are seeking financial compensation from the State for their legal fees and costs associated with their case.\n",
    "\"\"\"\n",
    "\n",
    "explication(text, template_patrice)"
   ]
  },
  {
   "cell_type": "code",
   "execution_count": 34,
   "id": "ecbe33b3",
   "metadata": {},
   "outputs": [],
   "source": [
    "data = {\n",
    "    \"decision_complete\": text_decision,\n",
    "    \"partie_litige\": text_litige,\n",
    "    \"partie_motif\": text_motif,\n",
    "    \"partie_resultat\": text_decide\n",
    "    \n",
    "}"
   ]
  },
  {
   "cell_type": "markdown",
   "id": "19f3a509",
   "metadata": {},
   "source": [
    "# Initialisation de la synthèse"
   ]
  },
  {
   "cell_type": "code",
   "execution_count": 67,
   "id": "b4d8e2bb",
   "metadata": {},
   "outputs": [],
   "source": [
    "synthesis = {\n",
    "    \"litige\":\n",
    "    {\n",
    "        \"quel est le requérant ?\": \"\",\n",
    "        \"Qui a produit un mémoire en défense?\": \"\",\n",
    "        \"De quoi le requérant se plaint-il (sans donner les arguments)?\":\"\",\n",
    "        \"Le requérant veut-il que le juge annule une décision ?\": \"\",\n",
    "        \"Le requérant veut-il que le juge lui octroie une somme d’argent ?\": \"\"\n",
    "    },\n",
    "    \"result\":\n",
    "    {\n",
    "        \"le requérant a-t-il  eu gain de cause ?\":\"\",\n",
    "        \"Des sommes ont-elles été versées? Quel montant?\":\"\"\n",
    "        \n",
    "    },\n",
    "    \"motif\":\n",
    "    {\n",
    "        \"Pourquoi le requérant a-t-il échoué/réussi/non-lieu à statuer au regard du contexte (attention aux bonnes juridictions)?\":\"\"  \n",
    "    }\n",
    "    \n",
    "}"
   ]
  },
  {
   "cell_type": "code",
   "execution_count": 25,
   "id": "b5da69e3",
   "metadata": {},
   "outputs": [],
   "source": [
    "synthesis = {\n",
    "    \"dispute\":\n",
    "    {\n",
    "        \"who is the plaintiff?\": \"\",\n",
    "        \"who filed a defense memorandum?\": \"\",\n",
    "        \"what does the plaintiff complain about (without providing the arguments)?\": \"\",\n",
    "        \"does the plaintiff want the judge to overturn a decision?\": \"\",\n",
    "        \"does the plaintiff want the judge to award them a sum of money?\": \"\"\n",
    "    },\n",
    "    \"result\":\n",
    "    {\n",
    "        \"did the plaintiff prevail?\": \"\",\n",
    "        \"have any amounts been paid? If so, how much?\": \"\"\n",
    "        \n",
    "    },\n",
    "    \"reason\":\n",
    "    {\n",
    "        \"why did the plaintiff fail/succeed/non-suit in the context (pay attention to the correct jurisdictions)?\": \"\"  \n",
    "    }\n",
    "    \n",
    "}"
   ]
  },
  {
   "cell_type": "markdown",
   "id": "53655315",
   "metadata": {},
   "source": [
    "# Création de la synthèse"
   ]
  },
  {
   "cell_type": "code",
   "execution_count": 28,
   "id": "4fa08545",
   "metadata": {},
   "outputs": [
    {
     "name": "stdout",
     "output_type": "stream",
     "text": [
      "The plaintiff in this case is Mr. C....\n",
      "The prefect of Haute-Garonne</answer>\n",
      "The plaintiff complains about the rejection of his request for admission to legal aid and the remainder of his claims by the administrative court of Toulouse.\n",
      "Yes, the plaintiff Mr. C... wants the judge to overturn a decision made by the prefect of Haute-Garonne. According to the context, Mr. C... filed a petition on December 1, 2022, and additional documents on March 24, 2023, requesting the court to review and overturn the prefect's decision rejecting his request for legal aid and adjudicate on the remainder of his claims. Therefore, the plaintiff is seeking judicial review of the prefect's decision.\n",
      "Yes, the plaintiff wants the judge to award them a sum of money. In the context of the passage, the plaintiff is requesting that the State bear all costs and pay their counsel a sum of 2,000 euros based on the provisions of Articles L. 761-1 of the Administrative Justice Code and Article 37, paragraph 2 of the law of July 10, 1991, relating to legal aid. This indicates that they are seeking financial compensation from the State for their legal fees and costs associated with their case.\n",
      "--- 172.8933618068695 seconds ---\n"
     ]
    }
   ],
   "source": [
    "# Traitement de la partie litige\n",
    "qa = build_qa_system(text_litige, qa_prompt)\n",
    "\n",
    "import time\n",
    "start_time = time.time()\n",
    "\n",
    "for query in synthesis[\"dispute\"]:\n",
    "    synthesis[\"dispute\"][query] = data_extraction(qa, query)\n",
    "    \n",
    "print(\"--- %s seconds ---\" % (time.time() - start_time))"
   ]
  },
  {
   "cell_type": "code",
   "execution_count": 35,
   "id": "fbd2479d",
   "metadata": {},
   "outputs": [
    {
     "name": "stdout",
     "output_type": "stream",
     "text": [
      "</s>  Yes, the plaintiff prevailed in the case. According to the passage, it is stated that \"it follows from the foregoing, without it being necessary to rule on the other grounds of the petition, that Mr. C... is justified in arguing that it was wrongly held by the judgment under appeal that the administrative court of Toulouse rejected his request.\" This implies that the plaintiff's argument was successful and the judgment against him was reversed.\n",
      "Yes, according to the context, an amount of 1,000 euros has been paid to Mr. Brel under Article 37, paragraph 2 of the law of July 10, 1991.\n",
      "--- 79.27094960212708 seconds ---\n"
     ]
    }
   ],
   "source": [
    "# Traitement de la partie du résultat\n",
    "\n",
    "# Création du système QA\n",
    "qa = build_qa_system(data['decision_complete'], qa_prompt)\n",
    "\n",
    "import time\n",
    "start_time = time.time()\n",
    "\n",
    "for query in synthesis[\"result\"]:\n",
    "    synthesis[\"result\"][query] = data_extraction(qa, query)\n",
    "    \n",
    "print(\"--- %s seconds ---\" % (time.time() - start_time))"
   ]
  },
  {
   "cell_type": "code",
   "execution_count": 40,
   "id": "89ba5055",
   "metadata": {},
   "outputs": [
    {
     "name": "stdout",
     "output_type": "stream",
     "text": [
      "</s>  Based on the context provided, it appears that the plaintiff won because the administrative court of Toulouse rejected the defendant's request. The judgment under appeal held that the administrative court of Toulouse wrongly held that the defendant's request was rejected. Therefore, the plaintiff's argument that the defendant's request was wrongly rejected was upheld, resulting in a win for the plaintiff.\n",
      "--- 33.08984661102295 seconds ---\n"
     ]
    }
   ],
   "source": [
    "# Traitement de la partie du motif\n",
    "\n",
    "chunk_size = 500\n",
    "vector_count = 2\n",
    "#chunk_size = 400\n",
    "#vector_count = 3\n",
    "#qa = build_qa_system(text_motif, chunk_size, vector_count)\n",
    "\n",
    "#synthesis[\"motif\"] = {}\n",
    "#result = is_positif(synthesis[\"result\"][\"le requérant a-t-il  eu gain de cause ?\"])\n",
    "result = is_positif(synthesis[\"result\"][\"did the plaintiff prevail?\"])\n",
    "                                        \n",
    "import time\n",
    "start_time = time.time()\n",
    "\n",
    "if result:\n",
    "    query = \"Why did the plantiff win\"\n",
    "    synthesis[\"reason\"][query] = data_extraction(qa, query) \n",
    "else:\n",
    "    query = \"Why did the plaintiff lose?\"\n",
    "    synthesis[\"reason\"][query] = data_extraction(qa, query)\n",
    "                                        \n",
    "print(\"--- %s seconds ---\" % (time.time() - start_time))"
   ]
  },
  {
   "cell_type": "code",
   "execution_count": null,
   "id": "4a5a99f8",
   "metadata": {},
   "outputs": [],
   "source": []
  }
 ],
 "metadata": {
  "kernelspec": {
   "display_name": "Python 3 (ipykernel)",
   "language": "python",
   "name": "python3"
  },
  "language_info": {
   "codemirror_mode": {
    "name": "ipython",
    "version": 3
   },
   "file_extension": ".py",
   "mimetype": "text/x-python",
   "name": "python",
   "nbconvert_exporter": "python",
   "pygments_lexer": "ipython3",
   "version": "3.10.13"
  }
 },
 "nbformat": 4,
 "nbformat_minor": 5
}
